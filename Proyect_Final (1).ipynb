{
  "metadata": {
    "kernelspec": {
      "name": "python",
      "display_name": "Python (Pyodide)",
      "language": "python"
    },
    "language_info": {
      "codemirror_mode": {
        "name": "python",
        "version": 3
      },
      "file_extension": ".py",
      "mimetype": "text/x-python",
      "name": "python",
      "nbconvert_exporter": "python",
      "pygments_lexer": "ipython3",
      "version": "3.8"
    }
  },
  "nbformat_minor": 4,
  "nbformat": 4,
  "cells": [
    {
      "cell_type": "markdown",
      "source": "# Proyect final",
      "metadata": {}
    },
    {
      "cell_type": "markdown",
      "source": "### Introduction\nIn this book, I practice learning in the IBM SkillsBuild course.",
      "metadata": {}
    },
    {
      "cell_type": "markdown",
      "source": "##### The list of languages that Data Science:\n1. python\n2. R\n3. SQL\n4. Julia",
      "metadata": {}
    },
    {
      "cell_type": "markdown",
      "source": "##### The list of libriry that Data Science:\n1. Pandas\n2. Numpy\n3. Matplotlib\n4. Scikit-learn\n",
      "metadata": {}
    },
    {
      "cell_type": "markdown",
      "source": "##### Table of Tools that Data Science\n\n| Tool                | Description                                                                 |\n|---------------------|-----------------------------------------------------------------------------|\n| **Jupyter Notebook** | Interactive environment for creating and sharing notebooks with code and visualization |\n| **Pandas**           | Library for data manipulation and analysis in Python                         |\n| **NumPy**            | Fundamental library for scientific computing with Python                     |\n| **Matplotlib**       | Library for creating static, interactive, and animated visualizations        |\n| **SQL**              | Structured query language for interacting with databases                    |\n| **R**                | Programming language for statistics and data analysis                        |\n\n",
      "metadata": {}
    },
    {
      "cell_type": "markdown",
      "source": "##### Examples of Arithmetic Expressions\n\n1. **Addition**\n   - Example: 5 + 3 = 8\n\n2. **Subtraction**\n   - Example: 10 - 4 = 6\n\n",
      "metadata": {}
    },
    {
      "cell_type": "markdown",
      "source": "---\n",
      "metadata": {}
    },
    {
      "cell_type": "code",
      "source": "result = (3*4)+5\n# This a simple arithmetic expression to mutiply then add integers\n\nprint(f\"The result of the arithmetic operation (3*4)+5 is equal to {result}\")",
      "metadata": {
        "trusted": true
      },
      "outputs": [
        {
          "name": "stdout",
          "text": "The result of the arithmetic operation (3*4)+5 is equal to 17\n",
          "output_type": "stream"
        }
      ],
      "execution_count": 4
    },
    {
      "cell_type": "code",
      "source": "# This will convert 200 minutes to hours by dividing by 60\nminutes = 200\nhours = minutes / 60\n\n# Display the result\nprint(f\"{minutes} minutes is equal to {hours} hours.\")",
      "metadata": {
        "trusted": true
      },
      "outputs": [
        {
          "name": "stdout",
          "text": "200 minutes is equal to 3.3333333333333335 hours.\n",
          "output_type": "stream"
        }
      ],
      "execution_count": 5
    },
    {
      "cell_type": "code",
      "source": "# Create a list of objectives\nobjectives = [\n    \"Understand the basic arithmetic operations in Python.\",\n    \"Learn how to convert in programer\",\n    \"Explore the use of Python to solve practical problems.\",\n]\n\n# Display the objectives\nprint(\"Objectives:\")\nfor i, objective in enumerate(objectives, 1):\n    print(f\"{i}. {objective}\")\n",
      "metadata": {
        "trusted": true
      },
      "outputs": [
        {
          "name": "stdout",
          "text": "Objectives:\n1. Understand the basic arithmetic operations in Python.\n2. Learn how to convert in programer\n3. Explore the use of Python to solve practical problems.\n",
          "output_type": "stream"
        }
      ],
      "execution_count": 9
    },
    {
      "cell_type": "markdown",
      "source": "## Author Rodrigo Cerda Calapuja.",
      "metadata": {}
    }
  ]
}